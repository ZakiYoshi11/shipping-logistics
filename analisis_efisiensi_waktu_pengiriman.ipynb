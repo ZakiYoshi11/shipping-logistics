{
 "cells": [
  {
   "cell_type": "markdown",
   "metadata": {},
   "source": [
    "## Tugas Analisis Data Pengiriman - Efisiensi Waktu Pengiriman Berdasarkan Cabang dan Tujuan\n",
    "Deskripsi Tugas:\n",
    "\n",
    "1. Tujuan:\n",
    "\n",
    "- Menganalisis efisiensi waktu pengiriman berdasarkan data yang telah diberikan.\n",
    "- Mengidentifikasi cabang pengiriman yang memiliki performa terbaik dan terburuk berdasarkan waktu pengiriman.\n"
   ]
  },
  {
   "cell_type": "code",
   "execution_count": 1,
   "metadata": {},
   "outputs": [],
   "source": [
    "from library_run import csv, groupdata\n",
    "import pandas as pd\n",
    "import matplotlib.pyplot as plt\n",
    "import seaborn as sns"
   ]
  },
  {
   "cell_type": "code",
   "execution_count": 2,
   "metadata": {},
   "outputs": [],
   "source": [
    "df = csv(\"Data/rata_rata_waktu_pengiriman_per_cabang_large.csv\")"
   ]
  },
  {
   "cell_type": "code",
   "execution_count": 3,
   "metadata": {},
   "outputs": [
    {
     "data": {
      "text/html": [
       "<div>\n",
       "<style scoped>\n",
       "    .dataframe tbody tr th:only-of-type {\n",
       "        vertical-align: middle;\n",
       "    }\n",
       "\n",
       "    .dataframe tbody tr th {\n",
       "        vertical-align: top;\n",
       "    }\n",
       "\n",
       "    .dataframe thead th {\n",
       "        text-align: right;\n",
       "    }\n",
       "</style>\n",
       "<table border=\"1\" class=\"dataframe\">\n",
       "  <thead>\n",
       "    <tr style=\"text-align: right;\">\n",
       "      <th></th>\n",
       "      <th>Cabang Asal</th>\n",
       "      <th>Cabang Tujuan</th>\n",
       "      <th>Rata-rata Waktu Pengiriman (jam)</th>\n",
       "    </tr>\n",
       "  </thead>\n",
       "  <tbody>\n",
       "    <tr>\n",
       "      <th>0</th>\n",
       "      <td>Bandung</td>\n",
       "      <td>Bandung</td>\n",
       "      <td>15.43</td>\n",
       "    </tr>\n",
       "    <tr>\n",
       "      <th>1</th>\n",
       "      <td>Bandung</td>\n",
       "      <td>Jakarta</td>\n",
       "      <td>15.00</td>\n",
       "    </tr>\n",
       "    <tr>\n",
       "      <th>2</th>\n",
       "      <td>Bandung</td>\n",
       "      <td>Medan</td>\n",
       "      <td>16.56</td>\n",
       "    </tr>\n",
       "    <tr>\n",
       "      <th>3</th>\n",
       "      <td>Bandung</td>\n",
       "      <td>Surabaya</td>\n",
       "      <td>14.94</td>\n",
       "    </tr>\n",
       "    <tr>\n",
       "      <th>4</th>\n",
       "      <td>Jakarta</td>\n",
       "      <td>Bandung</td>\n",
       "      <td>12.88</td>\n",
       "    </tr>\n",
       "  </tbody>\n",
       "</table>\n",
       "</div>"
      ],
      "text/plain": [
       "  Cabang Asal Cabang Tujuan  Rata-rata Waktu Pengiriman (jam)\n",
       "0     Bandung       Bandung                             15.43\n",
       "1     Bandung       Jakarta                             15.00\n",
       "2     Bandung         Medan                             16.56\n",
       "3     Bandung      Surabaya                             14.94\n",
       "4     Jakarta       Bandung                             12.88"
      ]
     },
     "execution_count": 3,
     "metadata": {},
     "output_type": "execute_result"
    }
   ],
   "source": [
    "df.head()"
   ]
  },
  {
   "cell_type": "markdown",
   "metadata": {},
   "source": [
    "## Analisis Data"
   ]
  },
  {
   "cell_type": "code",
   "execution_count": 4,
   "metadata": {},
   "outputs": [
    {
     "data": {
      "text/html": [
       "<div>\n",
       "<style scoped>\n",
       "    .dataframe tbody tr th:only-of-type {\n",
       "        vertical-align: middle;\n",
       "    }\n",
       "\n",
       "    .dataframe tbody tr th {\n",
       "        vertical-align: top;\n",
       "    }\n",
       "\n",
       "    .dataframe thead th {\n",
       "        text-align: right;\n",
       "    }\n",
       "</style>\n",
       "<table border=\"1\" class=\"dataframe\">\n",
       "  <thead>\n",
       "    <tr style=\"text-align: right;\">\n",
       "      <th></th>\n",
       "      <th>Rata-rata Waktu Pengiriman (jam)</th>\n",
       "    </tr>\n",
       "  </thead>\n",
       "  <tbody>\n",
       "    <tr>\n",
       "      <th>count</th>\n",
       "      <td>104.000000</td>\n",
       "    </tr>\n",
       "    <tr>\n",
       "      <th>mean</th>\n",
       "      <td>14.865096</td>\n",
       "    </tr>\n",
       "    <tr>\n",
       "      <th>std</th>\n",
       "      <td>1.329636</td>\n",
       "    </tr>\n",
       "    <tr>\n",
       "      <th>min</th>\n",
       "      <td>12.000000</td>\n",
       "    </tr>\n",
       "    <tr>\n",
       "      <th>25%</th>\n",
       "      <td>13.947500</td>\n",
       "    </tr>\n",
       "    <tr>\n",
       "      <th>50%</th>\n",
       "      <td>14.990000</td>\n",
       "    </tr>\n",
       "    <tr>\n",
       "      <th>75%</th>\n",
       "      <td>15.902500</td>\n",
       "    </tr>\n",
       "    <tr>\n",
       "      <th>max</th>\n",
       "      <td>17.000000</td>\n",
       "    </tr>\n",
       "  </tbody>\n",
       "</table>\n",
       "</div>"
      ],
      "text/plain": [
       "       Rata-rata Waktu Pengiriman (jam)\n",
       "count                        104.000000\n",
       "mean                          14.865096\n",
       "std                            1.329636\n",
       "min                           12.000000\n",
       "25%                           13.947500\n",
       "50%                           14.990000\n",
       "75%                           15.902500\n",
       "max                           17.000000"
      ]
     },
     "execution_count": 4,
     "metadata": {},
     "output_type": "execute_result"
    }
   ],
   "source": [
    "df.describe()"
   ]
  },
  {
   "cell_type": "markdown",
   "metadata": {},
   "source": [
    "**NOTED**\n",
    "memperlihatkan bahwa waktu pengiriman paling cepat adalah 12 jam, sedangkan untuk waktu pengiriman terlama adalah 17 jam dari kantor cabang asal ke kantor cabang tujuan. untuk rata rata waktu pengiriman sendiri yaitu 14 jam"
   ]
  },
  {
   "cell_type": "code",
   "execution_count": 19,
   "metadata": {},
   "outputs": [
    {
     "data": {
      "image/png": "[encoded data removed]",
      "text/plain": [
       "<Figure size 640x480 with 1 Axes>"
      ]
     },
     "metadata": {},
     "output_type": "display_data"
    }
   ],
   "source": [
    "# vidualisasi  perbandingan waktu berdasarkan cabanga asal dan cabang  tujuan\n",
    "grpdata= groupdata(df,\"Cabang Asal\", \"Cabang Tujuan\", \"Rata-rata Waktu Pengiriman (jam)\")\n",
    "\n",
    "# Visualisasi menggunakan bar plot\n",
    "grpdata.unstack().plot(kind='box')\n",
    "plt.title('Perbandingan Waktu Pengiriman')\n",
    "plt.ylabel('Waktu Pengiriman (jam)')\n",
    "plt.xlabel('Cabang Asal - Cabang Tujuan')\n",
    "plt.show()"
   ]
  },
  {
   "cell_type": "code",
   "execution_count": 29,
   "metadata": {},
   "outputs": [
    {
     "data": {
      "image/png": "[encoded data removed]",
      "text/plain": [
       "<Figure size 640x480 with 1 Axes>"
      ]
     },
     "metadata": {},
     "output_type": "display_data"
    }
   ],
   "source": [
    "# Visualisasi menggunakan bar plot\n",
    "grpdata.unstack().plot(kind='bar')\n",
    "plt.title('Perbandingan Waktu Pengiriman')\n",
    "plt.ylabel('Waktu Pengiriman (jam)')\n",
    "plt.xlabel('Cabang Asal - Cabang Tujuan')\n",
    "plt.show()"
   ]
  },
  {
   "cell_type": "markdown",
   "metadata": {},
   "source": [
    "**NOTED**\n",
    "\n",
    "berdasarkan hasil visualisasi diatas terlihat bahwa cabang asal surabaya memiliki waktu tercepat melakukan proses pengiriman ke cabang tujuan dengan waktu paling cepat adalah 21 jam. sedangkan untuk cabang tujuan yang lama dilakukan proses pengiriman adalah medan hal itu disebabkan oleh beberapa faktor tentunya mulau dari jarak pengantaran dan jenis transportasi yang digunakan juga berpengaruh dalam cepatnya melakukan pengiriman. sedangkan untuk cabang asal yang memiliki peforma yang kurang baik adalah bandung karena rentan waktu pengirimannya sendiri cukup tinggi ke setiap cabang tujuan. untuk peforma dengan waktu rata rata pengiriman yang baik adalh surabaya dimana rata rata waktu pengirimannya cukup cepat dan stabil ke setiap cabang tujuan yang ada."
   ]
  },
  {
   "cell_type": "code",
   "execution_count": 28,
   "metadata": {},
   "outputs": [
    {
     "data": {
      "text/html": [
       "<div>\n",
       "<style scoped>\n",
       "    .dataframe tbody tr th:only-of-type {\n",
       "        vertical-align: middle;\n",
       "    }\n",
       "\n",
       "    .dataframe tbody tr th {\n",
       "        vertical-align: top;\n",
       "    }\n",
       "\n",
       "    .dataframe thead th {\n",
       "        text-align: right;\n",
       "    }\n",
       "</style>\n",
       "<table border=\"1\" class=\"dataframe\">\n",
       "  <thead>\n",
       "    <tr style=\"text-align: right;\">\n",
       "      <th></th>\n",
       "      <th>Cabang Asal</th>\n",
       "      <th>Cabang Tujuan</th>\n",
       "      <th>Rata-rata Waktu Pengiriman (jam)</th>\n",
       "    </tr>\n",
       "  </thead>\n",
       "  <tbody>\n",
       "    <tr>\n",
       "      <th>4</th>\n",
       "      <td>Jakarta</td>\n",
       "      <td>Bandung</td>\n",
       "      <td>12.88</td>\n",
       "    </tr>\n",
       "    <tr>\n",
       "      <th>15</th>\n",
       "      <td>Surabaya</td>\n",
       "      <td>Surabaya</td>\n",
       "      <td>12.00</td>\n",
       "    </tr>\n",
       "    <tr>\n",
       "      <th>20</th>\n",
       "      <td>Jakarta</td>\n",
       "      <td>Bandung</td>\n",
       "      <td>12.90</td>\n",
       "    </tr>\n",
       "    <tr>\n",
       "      <th>31</th>\n",
       "      <td>Surabaya</td>\n",
       "      <td>Surabaya</td>\n",
       "      <td>12.05</td>\n",
       "    </tr>\n",
       "    <tr>\n",
       "      <th>36</th>\n",
       "      <td>Jakarta</td>\n",
       "      <td>Bandung</td>\n",
       "      <td>12.95</td>\n",
       "    </tr>\n",
       "    <tr>\n",
       "      <th>47</th>\n",
       "      <td>Surabaya</td>\n",
       "      <td>Surabaya</td>\n",
       "      <td>12.10</td>\n",
       "    </tr>\n",
       "    <tr>\n",
       "      <th>52</th>\n",
       "      <td>Jakarta</td>\n",
       "      <td>Bandung</td>\n",
       "      <td>13.00</td>\n",
       "    </tr>\n",
       "    <tr>\n",
       "      <th>63</th>\n",
       "      <td>Surabaya</td>\n",
       "      <td>Surabaya</td>\n",
       "      <td>12.15</td>\n",
       "    </tr>\n",
       "    <tr>\n",
       "      <th>79</th>\n",
       "      <td>Surabaya</td>\n",
       "      <td>Surabaya</td>\n",
       "      <td>12.20</td>\n",
       "    </tr>\n",
       "    <tr>\n",
       "      <th>95</th>\n",
       "      <td>Surabaya</td>\n",
       "      <td>Surabaya</td>\n",
       "      <td>12.25</td>\n",
       "    </tr>\n",
       "  </tbody>\n",
       "</table>\n",
       "</div>"
      ],
      "text/plain": [
       "   Cabang Asal Cabang Tujuan  Rata-rata Waktu Pengiriman (jam)\n",
       "4      Jakarta       Bandung                             12.88\n",
       "15    Surabaya      Surabaya                             12.00\n",
       "20     Jakarta       Bandung                             12.90\n",
       "31    Surabaya      Surabaya                             12.05\n",
       "36     Jakarta       Bandung                             12.95\n",
       "47    Surabaya      Surabaya                             12.10\n",
       "52     Jakarta       Bandung                             13.00\n",
       "63    Surabaya      Surabaya                             12.15\n",
       "79    Surabaya      Surabaya                             12.20\n",
       "95    Surabaya      Surabaya                             12.25"
      ]
     },
     "execution_count": 28,
     "metadata": {},
     "output_type": "execute_result"
    }
   ],
   "source": [
    "df[df[\"Rata-rata Waktu Pengiriman (jam)\"] <=13][['Cabang Asal','Cabang Tujuan',\"Rata-rata Waktu Pengiriman (jam)\"]]"
   ]
  }
 ],
 "metadata": {
  "kernelspec": {
   "display_name": "Python 3",
   "language": "python",
   "name": "python3"
  },
  "language_info": {
   "codemirror_mode": {
    "name": "ipython",
    "version": 3
   },
   "file_extension": ".py",
   "mimetype": "text/x-python",
   "name": "python",
   "nbconvert_exporter": "python",
   "pygments_lexer": "ipython3",
   "version": "3.8.10"
  }
 },
 "nbformat": 4,
 "nbformat_minor": 2
}
